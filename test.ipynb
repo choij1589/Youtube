{
 "cells": [
  {
   "cell_type": "code",
   "execution_count": 21,
   "metadata": {},
   "outputs": [],
   "source": [
    "import numpy as np\n",
    "import pandas as pd\n",
    "import os, time\n",
    "csv = pd.read_csv(\"[YT] 음실연 정산(21.10) - kitty 서버 경로.csv\")"
   ]
  },
  {
   "cell_type": "code",
   "execution_count": 23,
   "metadata": {},
   "outputs": [],
   "source": [
    "target_names = []\n",
    "target_sub1 = []\n",
    "target_sub2 = []\n",
    "target_n_files = []\n",
    "target_dates = []\n",
    "target_files = []\n",
    "for idx in csv.index:\n",
    "    path = f\"/Volumes/Youtube/Originals/{csv.loc[idx, 'Kitty - Originals 내의 파일명']}/모음집/{csv.loc[idx, '세부 폴더명']}\"\n",
    "    if \"nan\" in path:\n",
    "        continue\n",
    "    \n",
    "    target_dirs = list(filter(lambda x: not x.startswith(\".\"), os.listdir(path)))\n",
    "    for target in target_dirs:\n",
    "        target_path = f\"{path}/{target}\"\n",
    "        files = list(filter(lambda x: not x.startswith(\".\"), os.listdir(target_path)))\n",
    "        for f in files:\n",
    "            target_names.append(csv.loc[idx, 'Kitty - Originals 내의 파일명'])\n",
    "            target_sub1.append(csv.loc[idx, '세부 폴더명'])\n",
    "            target_sub2.append(target)\n",
    "            target_n_files.append(len(files))\n",
    "            target_dates.append(time.ctime(os.path.getmtime(target_path)))\n",
    "            target_files.append(f)\n",
    "df = pd.DataFrame({'file':target_files, 'directory':target_names, 'sub_dir1':target_sub1, 'sub_dir2': target_sub2, 'number of files':target_n_files, 'last modified':target_dates})\n",
    "df.set_index(['directory', 'sub_dir1', 'sub_dir2', 'number of files', 'last modified'], inplace=True)\n",
    "df.to_csv(\"kitty.csv\")"
   ]
  },
  {
   "cell_type": "code",
   "execution_count": 56,
   "metadata": {},
   "outputs": [
    {
     "name": "stdout",
     "output_type": "stream",
     "text": [
      "55\n",
      "[Errno 2] No such file or directory: '/Volumes/Youtube/Originals/YouTube-임시폴더A/모음집'\n",
      "[Errno 2] No such file or directory: '/Volumes/Youtube/Originals/YouTube-임시폴더B/모음집'\n",
      "[Errno 2] No such file or directory: '/Volumes/Youtube/Originals/YouTube-SubTest/모음집'\n",
      "[Errno 2] No such file or directory: '/Volumes/Youtube/Originals/YouTube-SubTestB/모음집'\n",
      "[Errno 2] No such file or directory: '/Volumes/Youtube/Originals/YouTube-SubTestHogiB/모음집'\n",
      "[Errno 2] No such file or directory: '/Volumes/Youtube/Originals/YouTube-SubTestHogiA/모음집'\n",
      "[Errno 2] No such file or directory: '/Volumes/Youtube/Originals/YouTube-HogiOpenB/모음집'\n",
      "[Errno 2] No such file or directory: '/Volumes/Youtube/Originals/YouTube-SubSongTest/모음집'\n",
      "[Errno 2] No such file or directory: '/Volumes/Youtube/Originals/YouTube-BabySharkColorPuzzle/모음집'\n",
      "[Errno 2] No such file or directory: '/Volumes/Youtube/Originals/YouTube-PinkfongColorPuzzle/모음집'\n",
      "[Errno 2] No such file or directory: '/Volumes/Youtube/Originals/YouTube-BabyA1/모음집'\n",
      "[Errno 2] No such file or directory: '/Volumes/Youtube/Originals/YouTube-BabyBB/모음집'\n",
      "[Errno 2] No such file or directory: '/Volumes/Youtube/Originals/YouTube-BabyB1/모음집'\n",
      "[Errno 2] No such file or directory: '/Volumes/Youtube/Originals/YouTube-PinkfongMassPuzzle/모음집'\n",
      "[Errno 2] No such file or directory: '/Volumes/Youtube/Originals/YouTube-BabySharkNumber/모음집'\n",
      "[Errno 2] No such file or directory: '/Volumes/Youtube/Originals/YouTube-Halloween2021/모음집'\n",
      "[Errno 2] No such file or directory: '/Volumes/Youtube/Originals/YouTube-BabySharkHalloween2021/모음집'\n"
     ]
    }
   ],
   "source": [
    "import os, time\n",
    "originals = \"/Volumes/Youtube/Originals\"\n",
    "originals_dir = os.listdir(originals)\n",
    "sub_dirs = list(filter(lambda x: \"YouTube\" in x ,originals_dir))\n",
    "print(len(sub_dirs))\n",
    "\n",
    "target_names = []\n",
    "target_sub1 = []\n",
    "target_sub2 = []\n",
    "target_n_files = []\n",
    "target_dates = []\n",
    "target_files = []\n",
    "for d in sub_dirs:\n",
    "    try:\n",
    "        path = f\"{originals}/{d}/모음집\"\n",
    "        temp = os.listdir(path)\n",
    "        obj_dirs = list(filter(lambda x: not x.startswith(\".\"), temp))\n",
    "    except Exception as e:\n",
    "        print(e)\n",
    "        continue\n",
    "    \n",
    "    for d in obj_dirs:\n",
    "        sub_path = f\"{path}/{d}\"\n",
    "        target_dirs = list(filter(lambda x: not x.startswith(\".\"), os.listdir(sub_path)))\n",
    "        for target in target_dirs:\n",
    "            target_path = f\"{sub_path}/{target}\"\n",
    "            files = list(filter(lambda x: not x.startswith(\".\"), os.listdir(target_path)))\n",
    "            for f in files:\n",
    "                target_names.append(path)\n",
    "                target_sub1.append(d)\n",
    "                target_sub2.append(target)\n",
    "                target_n_files.append(len(files))\n",
    "                target_dates.append(time.ctime(os.path.getmtime(target_path)))\n",
    "                target_files.append(f)\n",
    "#print(target_names)\n",
    "#print(target_n_files)\n",
    "#print(target_dates)\n",
    "#print(target_files)\n",
    "\n",
    "df = pd.DataFrame({'file':target_files, 'directory':target_names, 'sub_dir1':target_sub1, 'sub_dir2': target_sub2, 'number of files':target_n_files, 'last modified':target_dates})\n",
    "df.set_index(['directory', 'sub_dir1', 'sub_dir2', 'number of files', 'last modified'], inplace=True)"
   ]
  },
  {
   "cell_type": "code",
   "execution_count": 57,
   "metadata": {},
   "outputs": [],
   "source": [
    "df.to_csv(\"Originals.csv\")"
   ]
  },
  {
   "cell_type": "code",
   "execution_count": null,
   "metadata": {},
   "outputs": [],
   "source": []
  }
 ],
 "metadata": {
  "interpreter": {
   "hash": "bc1a3cb9b1b1f57572ebcc19b4c39e99741a3440a402a7b450ea25c7ce93cfae"
  },
  "kernelspec": {
   "display_name": "Python 3.8.8 64-bit ('torch': conda)",
   "name": "python3"
  },
  "language_info": {
   "codemirror_mode": {
    "name": "ipython",
    "version": 3
   },
   "file_extension": ".py",
   "mimetype": "text/x-python",
   "name": "python",
   "nbconvert_exporter": "python",
   "pygments_lexer": "ipython3",
   "version": "3.8.8"
  },
  "orig_nbformat": 4
 },
 "nbformat": 4,
 "nbformat_minor": 2
}
