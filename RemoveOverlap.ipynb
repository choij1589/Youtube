{
 "cells": [
  {
   "cell_type": "code",
   "execution_count": 1,
   "metadata": {},
   "outputs": [],
   "source": [
    "import pandas as pd"
   ]
  },
  {
   "cell_type": "code",
   "execution_count": 2,
   "metadata": {},
   "outputs": [],
   "source": [
    "kitty = pd.read_csv(\"kitty.csv\")\n",
    "originals = pd.read_csv(\"Originals.csv\")"
   ]
  },
  {
   "cell_type": "code",
   "execution_count": 19,
   "metadata": {},
   "outputs": [
    {
     "data": {
      "text/plain": [
       "'/Volumes/Youtube/Originals/YouTube-PinkfongBabyShark/모음집/en+bb_en/Stay Healthy_Stay Strong_EN'"
      ]
     },
     "execution_count": 19,
     "metadata": {},
     "output_type": "execute_result"
    }
   ],
   "source": [
    "paths = []\n",
    "for idx in kitty.index:\n",
    "    path = f\"/Volumes/Youtube/Originals/{kitty.loc[idx, 'directory']}/모음집/{kitty.loc[idx, 'sub_dir1']}/{kitty.loc[idx, 'sub_dir2']}\"\n",
    "    paths.append(path)\n",
    "paths = set(paths)\n",
    "paths = list(paths)\n",
    "paths[0]"
   ]
  },
  {
   "cell_type": "code",
   "execution_count": 24,
   "metadata": {},
   "outputs": [
    {
     "name": "stdout",
     "output_type": "stream",
     "text": [
      "35757\n",
      "21639\n"
     ]
    }
   ],
   "source": [
    "df = originals.copy()\n",
    "for idx in df.index:\n",
    "    path = f\"{df.loc[idx, 'directory']}/{df.loc[idx, 'sub_dir1']}/{df.loc[idx, 'sub_dir2']}\"\n",
    "    if path in paths:\n",
    "        df.drop(index=idx, inplace=True)\n",
    "print(len(originals.index))\n",
    "print(len(df.index))"
   ]
  },
  {
   "cell_type": "code",
   "execution_count": 25,
   "metadata": {},
   "outputs": [],
   "source": [
    "df.to_csv(\"Originals_removed_overlap.csv\")"
   ]
  },
  {
   "cell_type": "code",
   "execution_count": null,
   "metadata": {},
   "outputs": [],
   "source": []
  }
 ],
 "metadata": {
  "interpreter": {
   "hash": "e1315e6714f2518a6216a6eec3b047587d10875bf19b853b35d3e5c84c569e2a"
  },
  "kernelspec": {
   "display_name": "Python 3.9.7 64-bit ('torch': conda)",
   "name": "python3"
  },
  "language_info": {
   "codemirror_mode": {
    "name": "ipython",
    "version": 3
   },
   "file_extension": ".py",
   "mimetype": "text/x-python",
   "name": "python",
   "nbconvert_exporter": "python",
   "pygments_lexer": "ipython3",
   "version": "3.9.7"
  },
  "orig_nbformat": 4
 },
 "nbformat": 4,
 "nbformat_minor": 2
}
